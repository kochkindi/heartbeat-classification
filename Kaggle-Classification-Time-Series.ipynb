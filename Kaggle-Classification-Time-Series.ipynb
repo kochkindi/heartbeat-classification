{
 "cells": [
  {
   "cell_type": "code",
   "execution_count": 27,
   "id": "5468e948",
   "metadata": {
    "scrolled": true
   },
   "outputs": [],
   "source": [
    "import pandas as pd\n",
    "import numpy as np\n",
    "import matplotlib.pyplot as plt\n",
    "import seaborn as sns\n",
    "\n",
    "from sklearn.metrics import confusion_matrix\n",
    "from sklearn.metrics import f1_score\n",
    "\n",
    "from sklearn.model_selection import train_test_split\n",
    "from sktime.classification.distance_based import KNeighborsTimeSeriesClassifier\n",
    "\n",
    "from pyts.classification import BOSSVS\n",
    "#from shapelets.classification import LtsShapeletClassifier ---- НЕ РАБОТАЕТ\n",
    "\n",
    "from sktime.classification.compose import ColumnEnsembleClassifier\n",
    "from sktime.classification.dictionary_based import BOSSEnsemble\n",
    "from sktime.classification.interval_based import TimeSeriesForestClassifier\n",
    "from sktime.classification.shapelet_based import ShapeletTransformClassifier\n",
    "#from sktime.classification.shapelet_based import MrSEQLClassifier\n",
    "from sktime.datasets import load_basic_motions\n",
    "from sktime.transformations.panel.compose import ColumnConcatenator\n",
    "from sktime.classification.sklearn import RotationForest\n",
    "\n",
    "from sktime.classification.hybrid import HIVECOTEV1\n",
    "from sktime.classification.hybrid import HIVECOTEV2\n",
    "#from sktime.contrib.vector_classifiers._rotation_forest import RotationForest\n"
   ]
  },
  {
   "cell_type": "code",
   "execution_count": 12,
   "id": "1f62ba53",
   "metadata": {},
   "outputs": [],
   "source": [
    "# !pip install shapelets --user"
   ]
  },
  {
   "cell_type": "code",
   "execution_count": 14,
   "id": "7d5d7707",
   "metadata": {},
   "outputs": [],
   "source": [
    "# !pip install shapelets-platform --user"
   ]
  },
  {
   "cell_type": "code",
   "execution_count": 67,
   "id": "3360bdf8",
   "metadata": {},
   "outputs": [],
   "source": [
    "# !pip install sktime"
   ]
  },
  {
   "cell_type": "code",
   "execution_count": null,
   "id": "b1b73f69",
   "metadata": {},
   "outputs": [],
   "source": [
    "# !pip install pyts"
   ]
  },
  {
   "cell_type": "markdown",
   "id": "75fcd498",
   "metadata": {},
   "source": [
    "**This dataset is composed of two collections of heartbeat signals derived from the famous dataset in heartbeat classification: The PTB Diagnostic ECG Database.**\n",
    "\n",
    "This dataset has been used in exploring heartbeat classification using deep neural network architectures, and observing some of the capabilities of transfer learning on it. The signals correspond to electrocardiogram (ECG) shapes of heartbeats for the normal case and the cases affected by different arrhythmias and myocardial infarction. These signals are preprocessed and segmented, with each segment corresponding to a heartbeat.\n",
    "\n",
    "Arrhythmia Dataset\n",
    "Number of Categories: 5\n",
    "Sampling Frequency: 125Hz\n",
    "Data Source: Physionet's MIT-BIH Arrhythmia Dataset\n",
    "Classes: ['N': 0, 'S': 1, 'V': 2, 'F': 3, 'Q': 4]\n",
    "\n",
    "Remark: All the samples are cropped, downsampled and padded with zeroes if necessary to the fixed dimension of 188."
   ]
  },
  {
   "cell_type": "code",
   "execution_count": 2,
   "id": "715ca120",
   "metadata": {},
   "outputs": [],
   "source": [
    "X_train = np.load(\"train_x.npy\")\n",
    "y_train = np.load(\"train_y.npy\")\n",
    "X_test_real = np.load(\"test_x.npy\")"
   ]
  },
  {
   "cell_type": "code",
   "execution_count": 3,
   "id": "a2739b60",
   "metadata": {},
   "outputs": [],
   "source": [
    "def cm_plot(y_test, y_pred):\n",
    "\n",
    "    cm = confusion_matrix(y_test, y_pred)\n",
    "    # Normalise\n",
    "    cmn = cm.astype('float') / cm.sum(axis=1)[:, np.newaxis]\n",
    "    fig, ax = plt.subplots(figsize=(5,5))\n",
    "    sns.heatmap(cmn, cmap='Blues', annot=True, fmt='.2f')\n",
    "    sns.set(font_scale=1.3)\n",
    "    plt.title(\"Confusion Matrix\")\n",
    "\n",
    "    return plt.show()"
   ]
  },
  {
   "cell_type": "code",
   "execution_count": 4,
   "id": "49d78af7",
   "metadata": {},
   "outputs": [
    {
     "data": {
      "text/plain": [
       "(14667, 187)"
      ]
     },
     "execution_count": 4,
     "metadata": {},
     "output_type": "execute_result"
    }
   ],
   "source": [
    "X_train.shape"
   ]
  },
  {
   "cell_type": "code",
   "execution_count": 5,
   "id": "5dff6aa2",
   "metadata": {},
   "outputs": [
    {
     "data": {
      "text/plain": [
       "(7225, 187)"
      ]
     },
     "execution_count": 5,
     "metadata": {},
     "output_type": "execute_result"
    }
   ],
   "source": [
    "X_test_real.shape"
   ]
  },
  {
   "cell_type": "code",
   "execution_count": 6,
   "id": "608e5e56",
   "metadata": {},
   "outputs": [],
   "source": [
    "X_train, X_test, y_train, y_test = train_test_split(X_train, y_train, test_size = 0.33, random_state = 42)"
   ]
  },
  {
   "cell_type": "markdown",
   "id": "4256abc0",
   "metadata": {},
   "source": [
    "## 1. KNeighborsTimeSeriesClassifier:"
   ]
  },
  {
   "cell_type": "code",
   "execution_count": 46,
   "id": "2de7cb48",
   "metadata": {},
   "outputs": [
    {
     "name": "stdout",
     "output_type": "stream",
     "text": [
      "Wall time: 2h 12min 15s\n"
     ]
    },
    {
     "data": {
      "text/plain": [
       "0.18070215175537938"
      ]
     },
     "execution_count": 46,
     "metadata": {},
     "output_type": "execute_result"
    }
   ],
   "source": [
    "%%time\n",
    "classifier = KNeighborsTimeSeriesClassifier(distance = \"lcss\", weights = 'distance', n_jobs = -1, )\n",
    "classifier.fit(X_train, y_train)\n",
    "y_pred = classifier.predict(X_test)\n",
    "f1_score(y_test, y_pred, average = \"macro\")"
   ]
  },
  {
   "cell_type": "markdown",
   "id": "cd1c8613",
   "metadata": {},
   "source": [
    "**KNeighborsTimeSeriesClassifier f1_score on X_test = 0.18**"
   ]
  },
  {
   "cell_type": "markdown",
   "id": "74b586df",
   "metadata": {},
   "source": [
    "## 2. ShapeletTransformClassifier with RotationForest estimator:"
   ]
  },
  {
   "cell_type": "code",
   "execution_count": 21,
   "id": "84044a9e",
   "metadata": {},
   "outputs": [],
   "source": [
    "clf = ShapeletTransformClassifier(estimator = RotationForest(n_estimators=3), \n",
    "                                  n_shapelet_samples = 100,\n",
    "                                  max_shapelets = 10,\n",
    "                                  batch_size = 20,\n",
    "                                  time_limit_in_minutes = 10)"
   ]
  },
  {
   "cell_type": "code",
   "execution_count": 22,
   "id": "6867017e",
   "metadata": {},
   "outputs": [
    {
     "name": "stdout",
     "output_type": "stream",
     "text": [
      "Wall time: 7min 47s\n"
     ]
    },
    {
     "data": {
      "text/plain": [
       "ShapeletTransformClassifier(batch_size=20,\n",
       "                            estimator=RotationForest(n_estimators=3),\n",
       "                            max_shapelets=10, n_shapelet_samples=100,\n",
       "                            time_limit_in_minutes=10)"
      ]
     },
     "execution_count": 22,
     "metadata": {},
     "output_type": "execute_result"
    }
   ],
   "source": [
    "%%time\n",
    "clf.fit(X_train, y_train)"
   ]
  },
  {
   "cell_type": "code",
   "execution_count": 23,
   "id": "907ce834",
   "metadata": {},
   "outputs": [
    {
     "name": "stdout",
     "output_type": "stream",
     "text": [
      "Wall time: 1.41 s\n"
     ]
    },
    {
     "data": {
      "text/plain": [
       "0.24433393447596535"
      ]
     },
     "execution_count": 23,
     "metadata": {},
     "output_type": "execute_result"
    }
   ],
   "source": [
    "%%time\n",
    "y_pred = clf.predict(X_test)\n",
    "f1_score(y_test, y_pred, average = \"macro\")"
   ]
  },
  {
   "cell_type": "markdown",
   "id": "29655b2f",
   "metadata": {},
   "source": [
    "**ShapeletTransformClassifier f1_score on X_test = 0.244**"
   ]
  },
  {
   "cell_type": "markdown",
   "id": "1e682c18",
   "metadata": {},
   "source": [
    "## 3. HIVECOTEV2:"
   ]
  },
  {
   "cell_type": "code",
   "execution_count": 35,
   "id": "6d31c5ae",
   "metadata": {},
   "outputs": [],
   "source": [
    "clf = HIVECOTEV2(\n",
    "\n",
    "    stc_params={\n",
    "\n",
    "        \"estimator\": RotationForest(n_estimators = 3),\n",
    "\n",
    "        \"n_shapelet_samples\": 500,\n",
    "\n",
    "        \"max_shapelets\": 20,\n",
    "\n",
    "        \"batch_size\": 100,\n",
    "\n",
    "    },\n",
    "\n",
    "    drcif_params = {\"n_estimators\": 10},\n",
    "\n",
    "    time_limit_in_minutes = 30\n",
    "\n",
    ")"
   ]
  },
  {
   "cell_type": "code",
   "execution_count": 36,
   "id": "1e37d5cd",
   "metadata": {},
   "outputs": [
    {
     "name": "stdout",
     "output_type": "stream",
     "text": [
      "Wall time: 1h 9min 11s\n"
     ]
    },
    {
     "data": {
      "text/plain": [
       "HIVECOTEV2(drcif_params={'n_estimators': 10, 'time_limit_in_minutes': 5.0},\n",
       "           stc_params={'batch_size': 100,\n",
       "                       'estimator': RotationForest(n_estimators=3),\n",
       "                       'max_shapelets': 20, 'n_shapelet_samples': 500,\n",
       "                       'time_limit_in_minutes': 5.0},\n",
       "           time_limit_in_minutes=30)"
      ]
     },
     "execution_count": 36,
     "metadata": {},
     "output_type": "execute_result"
    }
   ],
   "source": [
    "%%time\n",
    "clf.fit(X_train, y_train)"
   ]
  },
  {
   "cell_type": "markdown",
   "id": "19a289f0",
   "metadata": {},
   "source": [
    "**HIVECOTEV2 f1_score on X_test = 0.817**"
   ]
  },
  {
   "cell_type": "code",
   "execution_count": 44,
   "id": "a27c385e",
   "metadata": {},
   "outputs": [],
   "source": [
    "# %%time\n",
    "# y_pred = clf.predict(X_test_real)"
   ]
  },
  {
   "cell_type": "markdown",
   "id": "3a1c861b",
   "metadata": {},
   "source": [
    "## Submit:"
   ]
  },
  {
   "cell_type": "code",
   "execution_count": 45,
   "id": "6562ab75",
   "metadata": {},
   "outputs": [
    {
     "data": {
      "text/html": [
       "<div>\n",
       "<style scoped>\n",
       "    .dataframe tbody tr th:only-of-type {\n",
       "        vertical-align: middle;\n",
       "    }\n",
       "\n",
       "    .dataframe tbody tr th {\n",
       "        vertical-align: top;\n",
       "    }\n",
       "\n",
       "    .dataframe thead th {\n",
       "        text-align: right;\n",
       "    }\n",
       "</style>\n",
       "<table border=\"1\" class=\"dataframe\">\n",
       "  <thead>\n",
       "    <tr style=\"text-align: right;\">\n",
       "      <th></th>\n",
       "      <th>ID</th>\n",
       "      <th>Answer</th>\n",
       "    </tr>\n",
       "  </thead>\n",
       "  <tbody>\n",
       "    <tr>\n",
       "      <th>0</th>\n",
       "      <td>0</td>\n",
       "      <td>0</td>\n",
       "    </tr>\n",
       "    <tr>\n",
       "      <th>1</th>\n",
       "      <td>1</td>\n",
       "      <td>0</td>\n",
       "    </tr>\n",
       "    <tr>\n",
       "      <th>2</th>\n",
       "      <td>2</td>\n",
       "      <td>0</td>\n",
       "    </tr>\n",
       "    <tr>\n",
       "      <th>3</th>\n",
       "      <td>3</td>\n",
       "      <td>2</td>\n",
       "    </tr>\n",
       "    <tr>\n",
       "      <th>4</th>\n",
       "      <td>4</td>\n",
       "      <td>0</td>\n",
       "    </tr>\n",
       "    <tr>\n",
       "      <th>...</th>\n",
       "      <td>...</td>\n",
       "      <td>...</td>\n",
       "    </tr>\n",
       "    <tr>\n",
       "      <th>7220</th>\n",
       "      <td>7220</td>\n",
       "      <td>0</td>\n",
       "    </tr>\n",
       "    <tr>\n",
       "      <th>7221</th>\n",
       "      <td>7221</td>\n",
       "      <td>2</td>\n",
       "    </tr>\n",
       "    <tr>\n",
       "      <th>7222</th>\n",
       "      <td>7222</td>\n",
       "      <td>0</td>\n",
       "    </tr>\n",
       "    <tr>\n",
       "      <th>7223</th>\n",
       "      <td>7223</td>\n",
       "      <td>0</td>\n",
       "    </tr>\n",
       "    <tr>\n",
       "      <th>7224</th>\n",
       "      <td>7224</td>\n",
       "      <td>0</td>\n",
       "    </tr>\n",
       "  </tbody>\n",
       "</table>\n",
       "<p>7225 rows × 2 columns</p>\n",
       "</div>"
      ],
      "text/plain": [
       "        ID Answer\n",
       "0        0      0\n",
       "1        1      0\n",
       "2        2      0\n",
       "3        3      2\n",
       "4        4      0\n",
       "...    ...    ...\n",
       "7220  7220      0\n",
       "7221  7221      2\n",
       "7222  7222      0\n",
       "7223  7223      0\n",
       "7224  7224      0\n",
       "\n",
       "[7225 rows x 2 columns]"
      ]
     },
     "execution_count": 45,
     "metadata": {},
     "output_type": "execute_result"
    }
   ],
   "source": [
    "y_pred_csv = pd.DataFrame(list(range(len(y_pred))), columns=[\"ID\"])\n",
    "#y_pred_csv = pd.DataFrame()\n",
    "y_pred_csv[\"ID\"] = np.array(range(len(y_pred))).astype(int).astype(str)\n",
    "y_pred_csv[\"Answer\"] = np.array(y_pred).astype(int).astype(str)\n",
    "y_pred_csv.to_csv(\"testing_submission.csv\", index=None)\n",
    "y_pred_csv"
   ]
  },
  {
   "cell_type": "code",
   "execution_count": null,
   "id": "02db58c1",
   "metadata": {},
   "outputs": [],
   "source": []
  },
  {
   "cell_type": "code",
   "execution_count": null,
   "id": "f0c0a202",
   "metadata": {},
   "outputs": [],
   "source": []
  },
  {
   "cell_type": "code",
   "execution_count": null,
   "id": "de5ca121",
   "metadata": {},
   "outputs": [],
   "source": []
  },
  {
   "cell_type": "code",
   "execution_count": null,
   "id": "0bc4cb49",
   "metadata": {},
   "outputs": [],
   "source": []
  }
 ],
 "metadata": {
  "kernelspec": {
   "display_name": "Python 3",
   "language": "python",
   "name": "python3"
  },
  "language_info": {
   "codemirror_mode": {
    "name": "ipython",
    "version": 3
   },
   "file_extension": ".py",
   "mimetype": "text/x-python",
   "name": "python",
   "nbconvert_exporter": "python",
   "pygments_lexer": "ipython3",
   "version": "3.8.8"
  }
 },
 "nbformat": 4,
 "nbformat_minor": 5
}
